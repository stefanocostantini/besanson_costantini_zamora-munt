{
 "cells": [
  {
   "cell_type": "markdown",
   "metadata": {},
   "source": [
    "Importing the required libraries"
   ]
  },
  {
   "cell_type": "code",
   "execution_count": 1,
   "metadata": {
    "collapsed": false
   },
   "outputs": [
    {
     "name": "stdout",
     "output_type": "stream",
     "text": [
      "Populating the interactive namespace from numpy and matplotlib\n"
     ]
    }
   ],
   "source": [
    "import matplotlib.pyplot as plt # to draw charts\n",
    "%pylab inline\n",
    "import pandas as pd #to load data\n",
    "import numpy as np"
   ]
  },
  {
   "cell_type": "markdown",
   "metadata": {},
   "source": [
    "Load the data"
   ]
  },
  {
   "cell_type": "code",
   "execution_count": 2,
   "metadata": {
    "collapsed": false
   },
   "outputs": [
    {
     "name": "stdout",
     "output_type": "stream",
     "text": [
      "Index([u'Unnamed: 0', u'id', u'title', u'author', u'date', u'type', u'stars', u'text'], dtype='object')\n",
      "(45025, 8)\n"
     ]
    }
   ],
   "source": [
    "data = pd.read_table(\"game_reviews.txt\",encoding=\"utf-8\")\n",
    "print data.columns\n",
    "print data.shape"
   ]
  },
  {
   "cell_type": "markdown",
   "metadata": {},
   "source": [
    "Subset the data - only keeping review text and associated stars"
   ]
  },
  {
   "cell_type": "code",
   "execution_count": 3,
   "metadata": {
    "collapsed": false
   },
   "outputs": [
    {
     "name": "stdout",
     "output_type": "stream",
     "text": [
      "Index([u'reviews', u'stars'], dtype='object')\n",
      "(45025, 2)\n",
      "It's really candy crush.  It's so much prettier than the bootleg version I put on my kindle!!  So glad it's finally here.\n",
      "5\n"
     ]
    }
   ],
   "source": [
    "reviews = pd.DataFrame({'reviews': data.text, 'stars': data.stars})\n",
    "print reviews.columns\n",
    "print reviews.shape\n",
    "print reviews.reviews[1]\n",
    "print reviews.stars[1]"
   ]
  },
  {
   "cell_type": "markdown",
   "metadata": {},
   "source": [
    "Importing the `RawDocs` class needed to process text"
   ]
  },
  {
   "cell_type": "code",
   "execution_count": 7,
   "metadata": {
    "collapsed": false
   },
   "outputs": [],
   "source": [
    "%run RawDocs_Stefano.py #change this to final name of ex1 class"
   ]
  },
  {
   "cell_type": "markdown",
   "metadata": {},
   "source": [
    "Generate object of the `RawDocs` class which will have the methods required for the analysis, i.e. `count` and `tf_idf`."
   ]
  },
  {
   "cell_type": "code",
   "execution_count": 8,
   "metadata": {
    "collapsed": false
   },
   "outputs": [],
   "source": [
    "text = RawDocs(reviews.reviews,'stopwords.txt')"
   ]
  },
  {
   "cell_type": "markdown",
   "metadata": {},
   "source": [
    "__Question (a)__\n",
    "\n",
    "Apply `count` and `tf_idf` methods. We use a Harvard-IV dictionary that contains words intended to capture enjoyment. As the analysis is applied to reviews of a mobile game, this type of dictionary should capture the extent to which each review expresses this feeling."
   ]
  },
  {
   "cell_type": "code",
   "execution_count": null,
   "metadata": {
    "collapsed": false
   },
   "outputs": [],
   "source": [
    "%timeit text.count(\"Enjoyment_dictionary_plus.txt\")\n",
    "%timeit text.tf_idf(\"Enjoyment_dictionary_plus.txt\")"
   ]
  },
  {
   "cell_type": "markdown",
   "metadata": {},
   "source": [
    "Among the arrays of counts, each of the two methods also generates a vector of document scores (one score for each of the documents contained in the corpus.)"
   ]
  },
  {
   "cell_type": "code",
   "execution_count": 41,
   "metadata": {
    "collapsed": false
   },
   "outputs": [
    {
     "name": "stdout",
     "output_type": "stream",
     "text": [
      "(45025,)\n",
      "(45025,)\n"
     ]
    }
   ],
   "source": [
    "print text.dictionary_scores.shape\n",
    "print text.tf_idf_scores.shape"
   ]
  },
  {
   "cell_type": "markdown",
   "metadata": {},
   "source": [
    "__Question (b)__\n",
    "\n",
    "We explore the correlation between review scores and stars using scatter plots. To facilitate the comparison of the scores, first we normalise them so that they would range from 0 to 1.\n"
   ]
  },
  {
   "cell_type": "code",
   "execution_count": 46,
   "metadata": {
    "collapsed": false
   },
   "outputs": [],
   "source": [
    "dict_scores_norm = text.dictionary_scores / sum(text.dictionary_scores)\n",
    "tf_idf_scores_norm = text.tf_idf_scores / sum(text.tf_idf_scores)"
   ]
  },
  {
   "cell_type": "markdown",
   "metadata": {},
   "source": [
    "We consider the __unweighted__ dictionary scores first:\n",
    "\n",
    "The score of the documents are separated by number of stars rating. For each star rating we get the mean score and the standard deviation."
   ]
  },
  {
   "cell_type": "code",
   "execution_count": 65,
   "metadata": {
    "collapsed": false
   },
   "outputs": [
    {
     "name": "stdout",
     "output_type": "stream",
     "text": [
      "1746\n",
      "1176\n",
      "3322\n",
      "9716\n",
      "29065\n"
     ]
    },
    {
     "data": {
      "text/plain": [
       "<matplotlib.text.Text at 0x7fed8711ce10>"
      ]
     },
     "execution_count": 65,
     "metadata": {},
     "output_type": "execute_result"
    },
    {
     "data": {
      "image/png": "[encoded data removed]",
      "text/plain": [
       "<matplotlib.figure.Figure at 0x7fed870c5dd0>"
      ]
     },
     "metadata": {},
     "output_type": "display_data"
    }
   ],
   "source": [
    "mean_dict_scores_norm_by_stars = list()\n",
    "std_dict_scores_norm_by_stars = list()\n",
    "stars = [1,2,3,4,5]\n",
    "for i in stars:\n",
    "    mean_dict_scores_norm_by_stars.append(\n",
    "        np.mean(np.where(reviews.stars == i,1,0)*dict_scores_norm))\n",
    "    std_dict_scores_norm_by_stars.append(\n",
    "        np.std(np.where(reviews.stars == i,1,0)*dict_scores_norm))\n",
    "    \n",
    "plt.errorbar(stars,mean_dict_scores_norm_by_stars, yerr=std_dict_scores_norm_by_stars, fmt='or')\n",
    "plt.xlim(0.5,5.5)\n",
    "plt.ylim(-1e-5,4e-5)\n",
    "plt.xlabel('Star rating')\n",
    "plt.ylabel('Dictionary count mean score')"
   ]
  },
  {
   "cell_type": "markdown",
   "metadata": {},
   "source": [
    "The correlation between star ratings and scores in this case is:"
   ]
  },
  {
   "cell_type": "code",
   "execution_count": 59,
   "metadata": {
    "collapsed": false
   },
   "outputs": [
    {
     "data": {
      "text/plain": [
       "array([[ 1.        ,  0.11760768],\n",
       "       [ 0.11760768,  1.        ]])"
      ]
     },
     "execution_count": 59,
     "metadata": {},
     "output_type": "execute_result"
    }
   ],
   "source": [
    "np.corrcoef(reviews.stars,dict_scores_norm)"
   ]
  },
  {
   "cell_type": "markdown",
   "metadata": {},
   "source": [
    "We then considered the __tf-idf weighted__ scores by repeating the same procedure as before."
   ]
  },
  {
   "cell_type": "code",
   "execution_count": 61,
   "metadata": {
    "collapsed": false
   },
   "outputs": [
    {
     "data": {
      "text/plain": [
       "<matplotlib.text.Text at 0x7fed87363890>"
      ]
     },
     "execution_count": 61,
     "metadata": {},
     "output_type": "execute_result"
    },
    {
     "data": {
      "image/png": "[encoded data removed]",
      "text/plain": [
       "<matplotlib.figure.Figure at 0x7fed87247c10>"
      ]
     },
     "metadata": {},
     "output_type": "display_data"
    }
   ],
   "source": [
    "mean_tf_idf_norm_by_stars = list()\n",
    "std_tf_idf_norm_by_stars = list()\n",
    "stars = [1,2,3,4,5]\n",
    "for i in stars:\n",
    "    mean_tf_idf_norm_by_stars.append(\n",
    "        np.mean(np.where(reviews.stars == i,1,0)*tf_idf_scores_norm))\n",
    "    std_tf_idf_norm_by_stars.append(\n",
    "        np.std(np.where(reviews.stars == i,1,0)*tf_idf_scores_norm))\n",
    "    \n",
    "plt.errorbar(stars,mean_tf_idf_norm_by_stars, yerr=std_tf_idf_norm_by_stars, fmt='or')\n",
    "plt.xlim(0.5,5.5)\n",
    "plt.ylim(-1e-5,4e-5)\n",
    "plt.xlabel('Star rating')\n",
    "plt.ylabel('TF-IDF mean score')"
   ]
  },
  {
   "cell_type": "markdown",
   "metadata": {},
   "source": [
    "The correlation between star ratings and scores in this case is:"
   ]
  },
  {
   "cell_type": "code",
   "execution_count": 62,
   "metadata": {
    "collapsed": false
   },
   "outputs": [
    {
     "data": {
      "text/plain": [
       "array([[ 1.        ,  0.12508467],\n",
       "       [ 0.12508467,  1.        ]])"
      ]
     },
     "execution_count": 62,
     "metadata": {},
     "output_type": "execute_result"
    }
   ],
   "source": [
    "np.corrcoef(reviews.stars,tf_idf_scores_norm)"
   ]
  },
  {
   "cell_type": "markdown",
   "metadata": {},
   "source": [
    "__Question (c)__\n",
    "\n",
    "The charts show a small difference between the two methods. Specifically, when using the __tf-idf weighted__ scores the correlation between the text score and the star rating increase, albeit marginally.\n",
    "\n",
    "Both results suggest that there is a consistent star rating scale across revievers. The only exception is the case of 1 star that shows a mean score slightly larger than the value for 2 stars. That can be due to inconsistencies (e.g. 1 stars for one reviewer could be equivalent to 2 stars for another reviewer), due to a psychological bias towards the lowest value or as a result of some boycott of the competitors.\n",
    "\n",
    "The __tf_idf__ scoring helps extracting the meaning of the review thus making the weak link betweeen reviews and star rating even more obvious."
   ]
  }
 ],
 "metadata": {
  "kernelspec": {
   "display_name": "Python 2",
   "language": "python",
   "name": "python2"
  },
  "language_info": {
   "codemirror_mode": {
    "name": "ipython",
    "version": 2
   },
   "file_extension": ".py",
   "mimetype": "text/x-python",
   "name": "python",
   "nbconvert_exporter": "python",
   "pygments_lexer": "ipython2",
   "version": "2.7.9"
  }
 },
 "nbformat": 4,
 "nbformat_minor": 0
}
